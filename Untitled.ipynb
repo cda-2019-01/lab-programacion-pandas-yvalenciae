{
 "cells": [
  {
   "cell_type": "code",
   "execution_count": null,
   "metadata": {},
   "outputs": [],
   "source": [
    "import pandas as pd\n",
    "import numpy as np\n",
    "x = pd.read_csv('tbl0.tsv', sep='\\t')"
   ]
  },
  {
   "cell_type": "code",
   "execution_count": null,
   "metadata": {},
   "outputs": [],
   "source": [
    "x = pd.read_csv('tbl0.tsv', sep='\\t')\n",
    "q01 = x.groupby('_c1').count()['_c0']\n",
    "q01"
   ]
  },
  {
   "cell_type": "code",
   "execution_count": null,
   "metadata": {},
   "outputs": [],
   "source": [
    "x = pd.read_csv('tbl0.tsv', sep='\\t')\n",
    "q02 = x.groupby('_c1').mean()['_c2']\n",
    "q02"
   ]
  },
  {
   "cell_type": "code",
   "execution_count": null,
   "metadata": {},
   "outputs": [],
   "source": [
    "x = pd.read_csv('tbl0.tsv', sep='\\t')\n",
    "q03 = x.groupby('_c1').max()['_c2']\n",
    "q03"
   ]
  },
  {
   "cell_type": "code",
   "execution_count": null,
   "metadata": {},
   "outputs": [],
   "source": [
    "x1 = pd.read_csv('tbl1.tsv', sep='\\t')\n",
    "l= x1['_c4'].unique()\n",
    "q04 = [x.upper() for x in l]\n",
    "q04.sort()\n",
    "q04"
   ]
  },
  {
   "cell_type": "code",
   "execution_count": null,
   "metadata": {},
   "outputs": [],
   "source": [
    "x = pd.read_csv('tbl0.tsv', sep='\\t')\n",
    "q05 = x.groupby('_c1').sum()['_c2']\n",
    "q05"
   ]
  },
  {
   "cell_type": "code",
   "execution_count": null,
   "metadata": {},
   "outputs": [],
   "source": [
    "x = pd.read_csv('tbl0.tsv', sep='\\t')\n",
    "q06 = x.groupby('_c1').sum()['_c2']\n",
    "q06"
   ]
  },
  {
   "cell_type": "code",
   "execution_count": null,
   "metadata": {},
   "outputs": [],
   "source": [
    "#q07\n",
    "x = pd.read_csv('tbl0.tsv', sep='\\t')\n",
    "aux = x.copy()\n",
    "aux['suma'] = aux['_c0'].astype(int) + aux['_c2'].astype(int)\n",
    "aux"
   ]
  },
  {
   "cell_type": "code",
   "execution_count": null,
   "metadata": {},
   "outputs": [],
   "source": [
    "#q08\n",
    "x = pd.read_csv('tbl0.tsv', sep='\\t')\n",
    "aux = x.copy()\n",
    "aux['ano'] = aux['_c3'].replace('-[0-9][0-9]-[0-9][0-9]', '', regex=True).astype(object)\n",
    "aux"
   ]
  },
  {
   "cell_type": "code",
   "execution_count": null,
   "metadata": {},
   "outputs": [],
   "source": [
    "#q09\n",
    "import pandas as pd\n",
    "import numpy as np\n",
    "x = pd.read_csv('tbl0.tsv', sep='\\t')\n",
    "x = x.sort_values('_c2')\n",
    "x1 = x.groupby('_c1')['_c2'].apply(lambda x: ':'.join(map(str, x))).reset_index()\n",
    "x1 = x1.rename(index=str, columns={\"_c2\": \"lista\",\"_c1\": \"_c0\"})\n",
    "print(x1)"
   ]
  },
  {
   "cell_type": "code",
   "execution_count": null,
   "metadata": {},
   "outputs": [],
   "source": [
    "#q10\n",
    "import pandas as pd\n",
    "import numpy as np\n",
    "x = pd.read_csv('tbl1.tsv', sep='\\t')\n",
    "x = x.sort_values('_c4')\n",
    "x1 = x.groupby('_c0')['_c4'].apply(lambda x: ','.join(map(str, x))).reset_index()\n",
    "x1 = x1.rename(index=str, columns={\"_c4\": \"lista\",\"_c0\": \"_c0\"})\n",
    "print(x1)"
   ]
  },
  {
   "cell_type": "code",
   "execution_count": null,
   "metadata": {},
   "outputs": [],
   "source": [
    "import pandas as pd\n",
    "import numpy as np\n",
    "x = pd.read_csv('tbl2.tsv', sep='\\t')\n",
    "x['lista'] = x[['_c5a','_c5b']].apply(lambda x: ':'.join(map(str,x)), axis=1)\n",
    "x = x.sort_values('lista')\n",
    "x1 = x.groupby('_c0')['lista'].apply(lambda x: ','.join(map(str, x))).reset_index()\n",
    "print(x1)"
   ]
  },
  {
   "cell_type": "code",
   "execution_count": 41,
   "metadata": {},
   "outputs": [
    {
     "name": "stdout",
     "output_type": "stream",
     "text": [
      "_c5a\n",
      "aaa    53\n",
      "bbb    82\n",
      "ccc    72\n",
      "ddd    98\n",
      "eee    55\n",
      "fff    94\n",
      "ggg    61\n",
      "hhh    80\n",
      "iii    86\n",
      "jjj    67\n",
      "Name: _c5b, dtype: int64\n"
     ]
    }
   ],
   "source": [
    "import pandas as pd\n",
    "import numpy as np\n",
    "x1 = pd.read_csv('tbl0.tsv', sep='\\t')\n",
    "x2 = pd.read_csv('tbl2.tsv', sep='\\t')\n",
    "union =  pd.merge(x1, x2, on='_c0')\n",
    "q12=  union.groupby('_c5a').agg({'_c5b': np.sum})\n",
    "print(q12.iloc[:,0])"
   ]
  },
  {
   "cell_type": "code",
   "execution_count": 38,
   "metadata": {},
   "outputs": [
    {
     "name": "stdout",
     "output_type": "stream",
     "text": [
      "_c5a\n",
      "aaa    53\n",
      "bbb    82\n",
      "ccc    72\n",
      "ddd    98\n",
      "eee    55\n",
      "fff    94\n",
      "ggg    61\n",
      "hhh    80\n",
      "iii    86\n",
      "jjj    67\n",
      "Name: _c5b, dtype: int64\n"
     ]
    }
   ],
   "source": [
    "import pandas as pd\n",
    "import numpy as np\n",
    "import datetime\n",
    "pd.set_option('display.notebook_repr_html', False)\n",
    "\n",
    "Dataset =  pd.read_csv(\"tbl0.tsv\", sep=\"\\t\")\n",
    "Dataset2 =  pd.read_csv(\"tbl2.tsv\", sep=\"\\t\")\n",
    "DataSetConbine = Dataset =  pd.read_csv(\"tbl0.tsv\", sep=\"\\t\")\n",
    "Consulta =  pd.merge(Dataset, Dataset2, on='_c0')\n",
    "Resultado =  Consulta.groupby('_c5a').agg({'_c5b': np.sum})\n",
    "print(Resultado.iloc[:,0])"
   ]
  },
  {
   "cell_type": "code",
   "execution_count": 43,
   "metadata": {},
   "outputs": [
    {
     "name": "stdout",
     "output_type": "stream",
     "text": [
      "_c1\n",
      "A     8\n",
      "B     7\n",
      "C     5\n",
      "D     6\n",
      "E    14\n",
      "Name: _c0, dtype: int64\n"
     ]
    }
   ],
   "source": [
    "import pandas as pd\n",
    "import numpy as np\n",
    "x = pd.read_csv('tbl0.tsv', sep='\\t')\n",
    "q01 = x.groupby('_c1').count()['_c0']\n",
    "print(q01)"
   ]
  },
  {
   "cell_type": "code",
   "execution_count": null,
   "metadata": {},
   "outputs": [],
   "source": []
  }
 ],
 "metadata": {
  "kernelspec": {
   "display_name": "Python 3",
   "language": "python",
   "name": "python3"
  },
  "language_info": {
   "codemirror_mode": {
    "name": "ipython",
    "version": 3
   },
   "file_extension": ".py",
   "mimetype": "text/x-python",
   "name": "python",
   "nbconvert_exporter": "python",
   "pygments_lexer": "ipython3",
   "version": "3.6.7"
  }
 },
 "nbformat": 4,
 "nbformat_minor": 2
}
